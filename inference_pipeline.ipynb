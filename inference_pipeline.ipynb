{
 "cells": [
  {
   "cell_type": "code",
   "execution_count": null,
   "id": "70163763-a020-4813-99d4-5e296fd94072",
   "metadata": {},
   "outputs": [],
   "source": [
    "import os\n",
    "\n",
    "import hopsworks\n",
    "\n",
    "from sentence_transformers import SentenceTransformer\n",
    "from openai import OpenAI\n",
    "\n",
    "from functions.prompt_engineering import get_reranker, get_context_and_source, get_answer_from_gemini, get_answer_from_gpt\n",
    "\n",
    "import config\n",
    "\n",
    "import warnings\n",
    "warnings.filterwarnings('ignore')"
   ]
  },
  {
   "cell_type": "markdown",
   "id": "e1ad5aaa-2d93-48ff-91be-0567b5f15f87",
   "metadata": {},
   "source": [
    "## <span style=\"color:#ff5f27;\"> 🔮 Connecting to Hopsworks Feature Store </span>"
   ]
  },
  {
   "cell_type": "code",
   "execution_count": null,
   "id": "dac1f4bb-f777-4e3c-a5de-0c39ebc379a5",
   "metadata": {},
   "outputs": [],
   "source": [
    "project = hopsworks.login()\n",
    "fs = project.get_feature_store() "
   ]
  },
  {
   "cell_type": "markdown",
   "id": "adef84ba-72d1-4d64-8e42-bf196be0092f",
   "metadata": {},
   "source": [
    "## <span style=\"color:#ff5f27;\">🪄 Get Feature Views </span>"
   ]
  },
  {
   "cell_type": "code",
   "execution_count": null,
   "id": "7113fea7-1363-4d5d-b8d1-de85822a0dcd",
   "metadata": {},
   "outputs": [],
   "source": [
    "stanford_reports_view = fs.get_feature_view(\n",
    "    name=\"stanford_reports\",\n",
    "    version=1)\n",
    "\n",
    "eqt_portfolio_view = fs.get_feature_view(\n",
    "    name=\"eqt_portfolio\",\n",
    "    version=1)"
   ]
  },
  {
   "cell_type": "markdown",
   "id": "550b9c20-f24d-4ac6-9438-5fe3572166d5",
   "metadata": {},
   "source": [
    "## <span style=\"color:#ff5f27;\">🗄️ Build Prompt </span>"
   ]
  },
  {
   "cell_type": "code",
   "execution_count": null,
   "id": "5ef42504-4692-4211-a484-a58ee746c275",
   "metadata": {},
   "outputs": [],
   "source": [
    "query = \"Tell me  how eqt x portfolio companies are affected by Stanford AI Index report?\""
   ]
  },
  {
   "cell_type": "code",
   "execution_count": null,
   "id": "c534deda-10b4-42a1-badb-e533cebf88b3",
   "metadata": {},
   "outputs": [],
   "source": [
    "# Retrieve a reranker\n",
    "reranker = get_reranker(config.RERANKER)\n",
    "\n",
    "# Load the SentenceTransformer model\n",
    "sentence_transformer = SentenceTransformer(\n",
    "    config.MODEL_SENTENCE_TRANSFORMER,\n",
    ").to(config.DEVICE)"
   ]
  },
  {
   "cell_type": "code",
   "execution_count": null,
   "id": "325c4d45-e1cc-4124-9378-05dd897f3333",
   "metadata": {},
   "outputs": [],
   "source": [
    "reports_and_source = get_context_and_source(user_query=query, \n",
    "                                            sentence_transformer=sentence_transformer, \n",
    "                                            feature_view=stanford_reports_view, \n",
    "                                            reranker=reranker,\n",
    "                                            year=2024, \n",
    "                                            k=50)\n",
    "companies_and_source = get_context_and_source(user_query=query, sentence_transformer=sentence_transformer, \n",
    "                                              feature_view=eqt_portfolio_view, reranker=reranker)"
   ]
  },
  {
   "cell_type": "code",
   "execution_count": null,
   "id": "bed3eb5a-b483-4992-b47b-be874fd01e71",
   "metadata": {},
   "outputs": [],
   "source": [
    "reports_company_context = reports_and_source[0].copy()\n",
    "reports_company_context.extend(companies_and_source[0])"
   ]
  },
  {
   "cell_type": "markdown",
   "id": "4340311b-674e-406b-bc5a-bc9ad230c838",
   "metadata": {},
   "source": [
    "## <span style=\"color:#ff5f27;\">🚀 Model Inference </span>"
   ]
  },
  {
   "cell_type": "markdown",
   "id": "dd0aa3dc-a808-4f6a-8cfb-50eb7b08b512",
   "metadata": {},
   "source": [
    "### OpenAI"
   ]
  },
  {
   "cell_type": "code",
   "execution_count": null,
   "id": "ea4b5ca1-60c0-45e9-a1db-5b5dab26712e",
   "metadata": {},
   "outputs": [],
   "source": [
    "client = OpenAI(\n",
    "    api_key=os.environ[\"OPENAI_API_KEY\"],\n",
    ")\n",
    "\n",
    "response = get_answer_from_gpt(query = query, context = reports_company_context, source = reports_and_source[1], \n",
    "                               gpt_model = config.GPT_MODEL, client=client)\n",
    "print(response)"
   ]
  },
  {
   "cell_type": "markdown",
   "id": "0adbbd64-e809-4b50-823e-03ce5e1fa282",
   "metadata": {},
   "source": [
    "### Gemini"
   ]
  },
  {
   "cell_type": "code",
   "execution_count": null,
   "id": "36856675-4460-44cb-bb96-7087668c8237",
   "metadata": {},
   "outputs": [],
   "source": [
    "response = get_answer_from_gemini(query = query, context = reports_company_context, source = reports_and_source[1], api_key=os.environ[\"GEMINI_KEY\"])\n",
    "print(response)"
   ]
  }
 ],
 "metadata": {
  "kernelspec": {
   "display_name": "Python 3 (ipykernel)",
   "language": "python",
   "name": "python3"
  },
  "language_info": {
   "codemirror_mode": {
    "name": "ipython",
    "version": 3
   },
   "file_extension": ".py",
   "mimetype": "text/x-python",
   "name": "python",
   "nbconvert_exporter": "python",
   "pygments_lexer": "ipython3",
   "version": "3.11.11"
  }
 },
 "nbformat": 4,
 "nbformat_minor": 5
}
