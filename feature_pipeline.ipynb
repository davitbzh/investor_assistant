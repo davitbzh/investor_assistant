{
 "cells": [
  {
   "cell_type": "markdown",
   "id": "82622ee3",
   "metadata": {},
   "source": [
    "## <span style=\"color:#ff5f27\">📝 Imports </span>"
   ]
  },
  {
   "cell_type": "code",
   "execution_count": null,
   "id": "ade7fe1f",
   "metadata": {},
   "outputs": [],
   "source": [
    "#!pip install -r requirements.txt -q"
   ]
  },
  {
   "cell_type": "code",
   "execution_count": null,
   "id": "7ab771e2",
   "metadata": {},
   "outputs": [],
   "source": [
    "import os\n",
    "import pandas as pd\n",
    "\n",
    "import hopsworks\n",
    "\n",
    "from hsfs import embedding\n",
    "from hsfs.feature import Feature\n",
    "\n",
    "from openai import OpenAI\n",
    "from sentence_transformers import SentenceTransformer\n",
    "\n",
    "from pipelines.stanford_reports import get_reports_df\n",
    "from pipelines.portfolio_companies import get_portfolio_df\n",
    "\n",
    "import config\n",
    "\n",
    "import warnings\n",
    "warnings.filterwarnings('ignore')"
   ]
  },
  {
   "cell_type": "markdown",
   "id": "7e8f1796",
   "metadata": {},
   "source": [
    "## <span style=\"color:#ff5f27\">💾 Download Stanford AI index reports and extract text </span>"
   ]
  },
  {
   "cell_type": "code",
   "execution_count": null,
   "id": "ea8c756e",
   "metadata": {},
   "outputs": [],
   "source": [
    "ai_report_text_processed_df = get_reports_df()"
   ]
  },
  {
   "cell_type": "markdown",
   "id": "d16efdfd-a4d0-4acc-9362-be789b045b48",
   "metadata": {},
   "source": [
    "## <span style=\"color:#ff5f27\">💾 Fetch EQT X porfolio companies websites and extract text </span>"
   ]
  },
  {
   "cell_type": "code",
   "execution_count": null,
   "id": "779957e2-31c4-4b3f-a03d-26818c4ea180",
   "metadata": {},
   "outputs": [],
   "source": [
    "eqt_x_portfolio_text_processed_df = get_portfolio_df()"
   ]
  },
  {
   "cell_type": "markdown",
   "id": "10f9ea36",
   "metadata": {},
   "source": [
    "## <span style=\"color:#ff5f27\">⚙️ Create Embeddings For semantic search </span>"
   ]
  },
  {
   "cell_type": "markdown",
   "id": "c09ea017-1ea2-4bbf-8db1-aa223afdc53b",
   "metadata": {},
   "source": [
    "### AI report embeddings"
   ]
  },
  {
   "cell_type": "code",
   "execution_count": null,
   "id": "f9a2f532-1d31-4ff2-954d-951a497cf760",
   "metadata": {},
   "outputs": [],
   "source": [
    "# Load the SentenceTransformer model\n",
    "report_sentence_transformer = SentenceTransformer(\n",
    "    config.MODEL_SENTENCE_TRANSFORMER,\n",
    ").to(config.DEVICE)\n",
    "\n",
    "ai_report_text_processed_df = ai_report_text_processed_df.reset_index(drop=True)\n",
    "\n",
    "# Generate embeddings for the 'text' column using the SentenceTransformer model\n",
    "ai_report_text_processed_df['embeddings'] = pd.Series(\n",
    "    report_sentence_transformer.encode(ai_report_text_processed_df['text']).tolist(),\n",
    ")\n",
    "\n",
    "# Create a new column 'context_id' with values ranging from 0 to the number of rows in the DataFrame\n",
    "ai_report_text_processed_df['context_id'] = [*range(ai_report_text_processed_df.shape[0])]\n",
    "\n",
    "# Display the resulting DataFrame with the added 'embeddings' and 'context_id' columns\n",
    "ai_report_text_processed_df"
   ]
  },
  {
   "cell_type": "markdown",
   "id": "6d703c2c-dd3d-4ee7-8023-8b9c5397b69d",
   "metadata": {},
   "source": [
    "### Portfolio company embeddings"
   ]
  },
  {
   "cell_type": "code",
   "execution_count": null,
   "id": "c1b7a89a",
   "metadata": {},
   "outputs": [],
   "source": [
    "# Load the SentenceTransformer model\n",
    "portfolio_sentence_transformer = SentenceTransformer(\n",
    "    config.MODEL_SENTENCE_TRANSFORMER,\n",
    ").to(config.DEVICE)\n",
    "\n",
    "eqt_x_portfolio_text_processed_df = eqt_x_portfolio_text_processed_df.reset_index(drop=True)\n",
    "\n",
    "# Generate embeddings for the 'text' column using the SentenceTransformer model\n",
    "eqt_x_portfolio_text_processed_df['embeddings'] = pd.Series(\n",
    "    portfolio_sentence_transformer.encode(eqt_x_portfolio_text_processed_df['text']).tolist(),\n",
    ")\n",
    "\n",
    "# Create a new column 'context_id' with values ranging from 0 to the number of rows in the DataFrame\n",
    "eqt_x_portfolio_text_processed_df['context_id'] = [*range(eqt_x_portfolio_text_processed_df.shape[0])]\n",
    "\n",
    "# Display the resulting DataFrame with the added 'embeddings' and 'context_id' columns\n",
    "eqt_x_portfolio_text_processed_df.text"
   ]
  },
  {
   "cell_type": "markdown",
   "id": "d2bced31",
   "metadata": {},
   "source": [
    "## <span style=\"color:#ff5f27;\"> 🔮 Connecting to Hopsworks Feature Store </span>"
   ]
  },
  {
   "cell_type": "code",
   "execution_count": null,
   "id": "7caf764d",
   "metadata": {},
   "outputs": [],
   "source": [
    "project = hopsworks.login()\n",
    "fs = project.get_feature_store() "
   ]
  },
  {
   "cell_type": "markdown",
   "id": "0ed9ac69",
   "metadata": {},
   "source": [
    "## <span style=\"color:#ff5f27;\"> 🪄 Create Feature Groups  </span>"
   ]
  },
  {
   "cell_type": "markdown",
   "id": "de29d75a-b9e0-4825-ad40-9b5d49247b49",
   "metadata": {},
   "source": [
    "### Stanford AI reports feature group"
   ]
  },
  {
   "cell_type": "code",
   "execution_count": null,
   "id": "9f5e486b",
   "metadata": {},
   "outputs": [],
   "source": [
    "# Create the Embedding Index\n",
    "stanford_report_emb = embedding.EmbeddingIndex()\n",
    "\n",
    "stanford_report_emb.add_embedding(\n",
    "    \"embeddings\", \n",
    "    report_sentence_transformer .get_sentence_embedding_dimension(),\n",
    ")"
   ]
  },
  {
   "cell_type": "code",
   "execution_count": null,
   "id": "6e32b548",
   "metadata": {},
   "outputs": [],
   "source": [
    "stanford_report_features = [\n",
    "           Feature(name='name', type='string', online_type='varchar(100)'),\n",
    "           Feature(name='url', type='string', online_type='varchar(100)'),\n",
    "           Feature(name='source', type='string', online_type='varchar(100)'),\n",
    "           Feature(name='page_number', type='bigint', online_type='bigint'),\n",
    "           Feature(name='paragraph', type='bigint', online_type='bigint'),\n",
    "           Feature(name='text', type='string', online_type='VARCHAR(5900)'),\n",
    "           Feature(name='year', type='bigint', online_type='bigint'),\n",
    "           Feature(name='timestamp', type='timestamp', online_type='timestamp'),\n",
    "           Feature(name='embeddings', type='array<double>', online_type='varbinary(100)'),\n",
    "           Feature(name='context_id', type='bigint', online_type='bigint')\n",
    "]\n",
    "\n",
    "# Get or create the 'documents_fg' feature group\n",
    "stanford_reports_fg = fs.get_or_create_feature_group(\n",
    "    name=\"stanford_reports\",\n",
    "    version=1,\n",
    "    description='Stanford AI report.',\n",
    "    primary_key=['context_id'],\n",
    "    online_enabled=True,\n",
    "    embedding_index=stanford_report_emb\n",
    ")\n",
    "\n",
    "stanford_reports_fg.save(stanford_report_features)\n",
    "stanford_reports_fg.insert(ai_report_text_processed_df)"
   ]
  },
  {
   "cell_type": "markdown",
   "id": "f51ed69c-c3f7-4d1d-afbc-ccadc02eb4e8",
   "metadata": {},
   "source": [
    "### EQT X portfolio feature group"
   ]
  },
  {
   "cell_type": "code",
   "execution_count": null,
   "id": "d1be8000-57c0-442a-8112-5d3d09873523",
   "metadata": {},
   "outputs": [],
   "source": [
    "# Create the Embedding Index\n",
    "portfolio_emb = embedding.EmbeddingIndex()\n",
    "\n",
    "portfolio_emb.add_embedding(\n",
    "    \"embeddings\", \n",
    "    portfolio_sentence_transformer.get_sentence_embedding_dimension(),\n",
    ")"
   ]
  },
  {
   "cell_type": "code",
   "execution_count": null,
   "id": "68183bf1-d5b3-4387-9fb0-b83d8b2b0c68",
   "metadata": {},
   "outputs": [],
   "source": [
    "portfolio_features = [\n",
    "           Feature(name='name', type='string', online_type='varchar(100)'),\n",
    "           Feature(name='url', type='string', online_type='varchar(100)'),\n",
    "           Feature(name='source', type='string', online_type='varchar(100)'),\n",
    "           Feature(name='page_number', type='bigint', online_type='bigint'),\n",
    "           Feature(name='paragraph', type='bigint', online_type='bigint'),\n",
    "           Feature(name='text', type='string', online_type='VARCHAR(5900)'),\n",
    "           Feature(name='year', type='bigint', online_type='bigint'),\n",
    "           Feature(name='timestamp', type='timestamp', online_type='timestamp'),\n",
    "           Feature(name='embeddings', type='array<double>', online_type='varbinary(100)'),\n",
    "           Feature(name='context_id', type='bigint', online_type='bigint')\n",
    "]\n",
    "\n",
    "# Get or create the 'documents_fg' feature group\n",
    "portfolio_fg = fs.get_or_create_feature_group(\n",
    "    name=\"eqt_portfolio\",\n",
    "    version=1,\n",
    "    description='EQT portfolio companies.',\n",
    "    primary_key=['name'],\n",
    "    online_enabled=True,\n",
    "    embedding_index=portfolio_emb\n",
    ")\n",
    "\n",
    "portfolio_fg.save(portfolio_features)\n",
    "portfolio_fg.insert(eqt_x_portfolio_text_processed_df)"
   ]
  },
  {
   "cell_type": "markdown",
   "id": "d39a9ed6",
   "metadata": {},
   "source": [
    "## <span style=\"color:#ff5f27;\">🪄 Create Feature Views </span>"
   ]
  },
  {
   "cell_type": "code",
   "execution_count": null,
   "id": "7a7bc2f0",
   "metadata": {},
   "outputs": [],
   "source": [
    "# Get or create the 'stanford_reports' feature view\n",
    "feature_view = fs.get_or_create_feature_view(\n",
    "    name=\"stanford_reports\",\n",
    "    version=1,\n",
    "    description='Stanford reports for RAG system',\n",
    "    query=stanford_reports_fg.select([\"name\", \"url\", \"source\", \"page_number\", \"paragraph\", \"text\", \"year\"]),\n",
    ")"
   ]
  },
  {
   "cell_type": "code",
   "execution_count": null,
   "id": "90c2437a-6bc3-4128-8a7e-0a13d53f0371",
   "metadata": {},
   "outputs": [],
   "source": [
    "# Get or create the 'eqt_portfolio' feature view\n",
    "feature_view = fs.get_or_create_feature_view(\n",
    "    name=\"eqt_portfolio\",\n",
    "    version=1,\n",
    "    description='Text data from EQT portfolio companies for RAG system',\n",
    "    query=portfolio_fg.select([\"name\", \"url\", \"source\", \"page_number\", \"paragraph\", \"text\"]),\n",
    ")"
   ]
  },
  {
   "cell_type": "markdown",
   "id": "708b9a5f",
   "metadata": {},
   "source": [
    "---"
   ]
  }
 ],
 "metadata": {
  "kernelspec": {
   "display_name": "Python 3 (ipykernel)",
   "language": "python",
   "name": "python3"
  },
  "language_info": {
   "codemirror_mode": {
    "name": "ipython",
    "version": 3
   },
   "file_extension": ".py",
   "mimetype": "text/x-python",
   "name": "python",
   "nbconvert_exporter": "python",
   "pygments_lexer": "ipython3",
   "version": "3.11.11"
  }
 },
 "nbformat": 4,
 "nbformat_minor": 5
}
